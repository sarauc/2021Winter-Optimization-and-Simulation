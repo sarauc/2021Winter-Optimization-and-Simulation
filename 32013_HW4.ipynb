{
 "cells": [
  {
   "cell_type": "code",
   "execution_count": 3,
   "metadata": {},
   "outputs": [
    {
     "name": "stdout",
     "output_type": "stream",
     "text": [
      "The minimum number of drivers to hire is: 24.0\n",
      "Number of drivers to start at 12am shift x1 is: 2.0\n",
      "Number of drivers to start at 4am shift x2 is: 5.0\n",
      "Number of drivers to start at 8am shift x3 is: 12.0\n",
      "Number of drivers to start at 12pm shift x4 is: 3.0\n",
      "Number of drivers to start at 4pm shift x5 is: 2.0\n",
      "Number of drivers to start at 8pm shift x6 is: 0.0\n"
     ]
    }
   ],
   "source": [
    "using JuMP, GLPK\n",
    "m = Model(with_optimizer(GLPK.Optimizer))\n",
    "@variable(m, x1 >=0, Int)\n",
    "@variable(m, x2 >=0, Int)\n",
    "@variable(m, x3 >=0, Int)\n",
    "@variable(m, x4 >=0, Int)\n",
    "@variable(m, x5 >=0, Int)\n",
    "@variable(m, x6 >=0, Int)\n",
    "@constraint(m, x6+x1>=2)\n",
    "@constraint(m, x1+x2>=7)\n",
    "@constraint(m, x2+x3>=10)\n",
    "@constraint(m, x3+x4>=15)\n",
    "@constraint(m, x4+x5>=5)\n",
    "@constraint(m, x5+x6>=2)\n",
    "@objective(m, Min, x1+x2+x3+x4+x5+x6)\n",
    "\n",
    "optimize!(m)\n",
    "println(\"The minimum number of drivers to hire is: \", JuMP.objective_value(m))\n",
    "println(\"Number of drivers to start at 12am shift x1 is: \", JuMP.value(x1))\n",
    "println(\"Number of drivers to start at 4am shift x2 is: \", JuMP.value(x2))\n",
    "println(\"Number of drivers to start at 8am shift x3 is: \", JuMP.value(x3))\n",
    "println(\"Number of drivers to start at 12pm shift x4 is: \", JuMP.value(x4))\n",
    "println(\"Number of drivers to start at 4pm shift x5 is: \", JuMP.value(x5))\n",
    "println(\"Number of drivers to start at 8pm shift x6 is: \", JuMP.value(x6))\n"
   ]
  },
  {
   "cell_type": "code",
   "execution_count": null,
   "metadata": {},
   "outputs": [],
   "source": []
  }
 ],
 "metadata": {
  "kernelspec": {
   "display_name": "Julia 1.5.3",
   "language": "julia",
   "name": "julia-1.5"
  },
  "language_info": {
   "file_extension": ".jl",
   "mimetype": "application/julia",
   "name": "julia",
   "version": "1.5.3"
  }
 },
 "nbformat": 4,
 "nbformat_minor": 4
}
