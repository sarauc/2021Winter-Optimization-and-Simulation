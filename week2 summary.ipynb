{
 "cells": [
  {
   "cell_type": "code",
   "execution_count": null,
   "metadata": {},
   "outputs": [],
   "source": [
    "import Pkg\n",
    "Pkg.add(\"DataFrames\")\n",
    "Pkg.add(\"DataFramesMeta\")\n",
    "Pkg.add(\"Combinatorics\")\n"
   ]
  },
  {
   "cell_type": "code",
   "execution_count": 8,
   "metadata": {},
   "outputs": [
    {
     "name": "stdout",
     "output_type": "stream",
     "text": [
      "Min -1.1 x[1] - x[2]\n",
      "Subject to\n",
      " 1.6666666666666667 x[1] + x[2] + x[3] = 5.0\n",
      " 1.1428571428571428 x[1] + x[2] + x[4] = 4.0\n",
      " 0.42857142857142855 x[1] + x[2] + x[5] = 3.0\n",
      " x[1] ≥ 0.0\n",
      " x[2] ≥ 0.0\n",
      " x[3] ≥ 0.0\n",
      " x[4] ≥ 0.0\n",
      " x[5] ≥ 0.0\n"
     ]
    }
   ],
   "source": [
    "using JuMP, GLPK, LinearAlgebra\n",
    "\n",
    "c = [-1.1; -1; 0; 0; 0] # coefficients of objective function\n",
    "A = [5/3 1 1 0 0;\n",
    "     8/7 1 0 1 0;\n",
    "     3/7 1 0 0 1] # coefficients of constraints function in standard form\n",
    "b = [5; 4; 3] # RHS of constraints\n",
    "\n",
    "m,n = size(A) # m is the no of constraints and n is the number of variables\n",
    "x1_b = [0; 0; 0; 0; 0] # x[j=1:n] >= x1_b[j=1:n]\n",
    "\n",
    "# set up problem\n",
    "myModel = Model(with_optimizer(GLPK.Optimizer))\n",
    "@variable(myModel, x[j=1:n] >=x1_b[j]) # assign j value in x[] (create x_1 to x_n) and use j value in x1_b[].\n",
    "for i = 1:m   \n",
    "    @constraint(myModel, sum(A[i,j] *x[j] for j=1:n) == b[i])\n",
    "end\n",
    "@objective(myModel, Min, sum(c[j]*x[j] for j=1:n))\n",
    "\n",
    "print(myModel)\n",
    "\n",
    "# Question: @variable(myModel, x[j] >=x1_b[j] for j=1:n) does not work?\n",
    "# @objective(myModel, Min, sum(c[j=1:n]*x[j])) does not work?\n"
   ]
  },
  {
   "cell_type": "code",
   "execution_count": 28,
   "metadata": {},
   "outputs": [
    {
     "data": {
      "text/html": [
       "<table class=\"data-frame\"><thead><tr><th></th><th>comb_1</th><th>comb_2</th><th>comb_3</th><th>x_B_1</th><th>x_B_2</th><th>x_B_3</th><th>z</th></tr><tr><th></th><th>Float64</th><th>Float64</th><th>Float64</th><th>Float64</th><th>Float64</th><th>Float64</th><th>Float64</th></tr></thead><tbody><p>10 rows × 7 columns</p><tr><th>1</th><td>1.0</td><td>2.0</td><td>3.0</td><td>1.4</td><td>2.4</td><td>0.266667</td><td>-3.94</td></tr><tr><th>2</th><td>1.0</td><td>2.0</td><td>5.0</td><td>1.90909</td><td>1.81818</td><td>0.363636</td><td>-3.91818</td></tr><tr><th>3</th><td>1.0</td><td>4.0</td><td>5.0</td><td>3.0</td><td>0.571429</td><td>1.71429</td><td>-3.3</td></tr><tr><th>4</th><td>2.0</td><td>3.0</td><td>4.0</td><td>3.0</td><td>2.0</td><td>1.0</td><td>-3.0</td></tr><tr><th>5</th><td>3.0</td><td>4.0</td><td>5.0</td><td>5.0</td><td>4.0</td><td>3.0</td><td>0.0</td></tr><tr><th>6</th><td>1.0</td><td>2.0</td><td>4.0</td><td>1.61538</td><td>2.30769</td><td>-0.153846</td><td>Inf</td></tr><tr><th>7</th><td>1.0</td><td>3.0</td><td>4.0</td><td>7.0</td><td>-6.66667</td><td>-4.0</td><td>Inf</td></tr><tr><th>8</th><td>1.0</td><td>3.0</td><td>5.0</td><td>3.5</td><td>-0.833333</td><td>1.5</td><td>Inf</td></tr><tr><th>9</th><td>2.0</td><td>3.0</td><td>5.0</td><td>4.0</td><td>1.0</td><td>-1.0</td><td>Inf</td></tr><tr><th>10</th><td>2.0</td><td>4.0</td><td>5.0</td><td>5.0</td><td>-1.0</td><td>-2.0</td><td>Inf</td></tr></tbody></table>"
      ],
      "text/latex": [
       "\\begin{tabular}{r|ccccccc}\n",
       "\t& comb\\_1 & comb\\_2 & comb\\_3 & x\\_B\\_1 & x\\_B\\_2 & x\\_B\\_3 & z\\\\\n",
       "\t\\hline\n",
       "\t& Float64 & Float64 & Float64 & Float64 & Float64 & Float64 & Float64\\\\\n",
       "\t\\hline\n",
       "\t1 & 1.0 & 2.0 & 3.0 & 1.4 & 2.4 & 0.266667 & -3.94 \\\\\n",
       "\t2 & 1.0 & 2.0 & 5.0 & 1.90909 & 1.81818 & 0.363636 & -3.91818 \\\\\n",
       "\t3 & 1.0 & 4.0 & 5.0 & 3.0 & 0.571429 & 1.71429 & -3.3 \\\\\n",
       "\t4 & 2.0 & 3.0 & 4.0 & 3.0 & 2.0 & 1.0 & -3.0 \\\\\n",
       "\t5 & 3.0 & 4.0 & 5.0 & 5.0 & 4.0 & 3.0 & 0.0 \\\\\n",
       "\t6 & 1.0 & 2.0 & 4.0 & 1.61538 & 2.30769 & -0.153846 & Inf \\\\\n",
       "\t7 & 1.0 & 3.0 & 4.0 & 7.0 & -6.66667 & -4.0 & Inf \\\\\n",
       "\t8 & 1.0 & 3.0 & 5.0 & 3.5 & -0.833333 & 1.5 & Inf \\\\\n",
       "\t9 & 2.0 & 3.0 & 5.0 & 4.0 & 1.0 & -1.0 & Inf \\\\\n",
       "\t10 & 2.0 & 4.0 & 5.0 & 5.0 & -1.0 & -2.0 & Inf \\\\\n",
       "\\end{tabular}\n"
      ],
      "text/plain": [
       "\u001b[1m10×7 DataFrame\u001b[0m\n",
       "\u001b[1m Row \u001b[0m│\u001b[1m comb_1  \u001b[0m\u001b[1m comb_2  \u001b[0m\u001b[1m comb_3  \u001b[0m\u001b[1m x_B_1   \u001b[0m\u001b[1m x_B_2     \u001b[0m\u001b[1m x_B_3     \u001b[0m\u001b[1m z         \u001b[0m\n",
       "\u001b[1m     \u001b[0m│\u001b[90m Float64 \u001b[0m\u001b[90m Float64 \u001b[0m\u001b[90m Float64 \u001b[0m\u001b[90m Float64 \u001b[0m\u001b[90m Float64   \u001b[0m\u001b[90m Float64   \u001b[0m\u001b[90m Float64   \u001b[0m\n",
       "─────┼─────────────────────────────────────────────────────────────────────\n",
       "   1 │     1.0      2.0      3.0  1.4       2.4        0.266667   -3.94\n",
       "   2 │     1.0      2.0      5.0  1.90909   1.81818    0.363636   -3.91818\n",
       "   3 │     1.0      4.0      5.0  3.0       0.571429   1.71429    -3.3\n",
       "   4 │     2.0      3.0      4.0  3.0       2.0        1.0        -3.0\n",
       "   5 │     3.0      4.0      5.0  5.0       4.0        3.0         0.0\n",
       "   6 │     1.0      2.0      4.0  1.61538   2.30769   -0.153846  Inf\n",
       "   7 │     1.0      3.0      4.0  7.0      -6.66667   -4.0       Inf\n",
       "   8 │     1.0      3.0      5.0  3.5      -0.833333   1.5       Inf\n",
       "   9 │     2.0      3.0      5.0  4.0       1.0       -1.0       Inf\n",
       "  10 │     2.0      4.0      5.0  5.0      -1.0       -2.0       Inf"
      ]
     },
     "execution_count": 28,
     "metadata": {},
     "output_type": "execute_result"
    }
   ],
   "source": [
    "# Search Method\n",
    "using DataFrames, DataFramesMeta, Combinatorics\n",
    "# Find all basic solutions\n",
    "combs = collect(combinations(1:n, m)) # all combinations of m variables from n variables\n",
    "result = DataFrame(comb_1=NaN, comb_2=NaN, comb_3=NaN, x_B_1=NaN, x_B_2=NaN, x_B_3=NaN, z=NaN) # Store results\n",
    "\n",
    "for i in 1:length(combs)\n",
    "    comb = combs[i]\n",
    "    B = A[:, comb]\n",
    "    c_B = c[comb]\n",
    "    x_B = inv(B)*b # Find value for each x\n",
    "# Check feasibility of basic solution: If feasible, calculate utility  \n",
    "    if minimum(x_B) > 0 \n",
    "        z = dot(c_B,x_B)\n",
    "    else\n",
    "        z = Inf\n",
    "    end\n",
    "    \n",
    "    if i==1\n",
    "        result[1,:] = [comb[1], comb[2], comb[3], x_B[1], x_B[2], x_B[3], z] # This is to replace the original row of NaN\n",
    "    else\n",
    "        push!(result, [comb[1], comb[2], comb[3], x_B[1], x_B[2], x_B[3], z]) # Insert new row to the DF at the end of last row\n",
    "    end\n",
    "end\n",
    "# Sort rows\n",
    "sort(result, :z)\n",
    "\n",
    "\n",
    "# Among the 10 basic solutions, there are 5 feasible basic solutions and one optimal feasible basic solution\n",
    "# The optimal basic solution is when x=[1.4; 2.4; 0.2667; 0; 0] and has utility of -3.94\n",
    "# My remaining question is why choose m among n at the very beginning?? "
   ]
  },
  {
   "cell_type": "code",
   "execution_count": null,
   "metadata": {},
   "outputs": [],
   "source": [
    "# Simplex Method\n",
    "using JuMP, GLPK\n",
    "# Set up model \n",
    "newModel = Model(with_optimizer(GLPK.Optimizer))\n",
    "\n",
    "\n",
    "@variable(newModel, x[i=1:n] >=x_lb[i])\n",
    "for i=1:m\n",
    "    @constraint(newModel, sum(A[i,j]*x[j] for j=1:n) == b[i])\n",
    "end\n",
    "    @objective(newModel, Min, sum(c[j]*x[j] for j=1:n))\n",
    "println(\"The optimization problem to be solved is:\")\n",
    "print(newModel)\n",
    "println(\" \")\n",
    "println(\"The rank of the matrix A: \",rank(A))\n",
    "println(\"The number of linear restrictions: \", m)\n",
    "println(\"The number of variables: \",n)\n",
    "println(\"Number of basic solutions n!/m!(n-m)!: \",factorial(n)/(factorial(m)*factorial(n-m)))"
   ]
  },
  {
   "cell_type": "code",
   "execution_count": null,
   "metadata": {},
   "outputs": [],
   "source": []
  }
 ],
 "metadata": {
  "kernelspec": {
   "display_name": "Julia 1.5.3",
   "language": "julia",
   "name": "julia-1.5"
  },
  "language_info": {
   "file_extension": ".jl",
   "mimetype": "application/julia",
   "name": "julia",
   "version": "1.5.3"
  }
 },
 "nbformat": 4,
 "nbformat_minor": 4
}
